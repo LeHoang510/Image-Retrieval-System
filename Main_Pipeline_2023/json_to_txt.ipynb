{
 "cells": [
  {
   "cell_type": "code",
   "execution_count": 8,
   "metadata": {},
   "outputs": [
    {
     "name": "stdout",
     "output_type": "stream",
     "text": [
      "['L11_V001.json', 'L11_V002.json', 'L11_V003.json', 'L11_V004.json', 'L11_V005.json', 'L11_V006.json', 'L11_V007.json', 'L11_V008.json', 'L11_V009.json', 'L11_V010.json', 'L11_V011.json', 'L11_V012.json', 'L11_V013.json', 'L11_V014.json', 'L11_V015.json', 'L11_V016.json', 'L11_V017.json', 'L11_V018.json', 'L11_V019.json', 'L11_V020.json', 'L11_V021.json', 'L11_V022.json', 'L11_V023.json', 'L11_V024.json', 'L11_V025.json', 'L11_V026.json', 'L11_V027.json', 'L11_V028.json', 'L11_V029.json', 'L11_V030.json', 'L11_V031.json', 'L12_V001.json', 'L12_V002.json', 'L12_V003.json', 'L12_V004.json', 'L12_V005.json', 'L12_V006.json', 'L12_V007.json', 'L12_V008.json', 'L12_V009.json', 'L12_V010.json', 'L12_V011.json', 'L12_V012.json', 'L12_V013.json', 'L12_V014.json', 'L12_V015.json', 'L12_V016.json', 'L12_V017.json', 'L12_V018.json', 'L12_V019.json', 'L12_V020.json', 'L12_V021.json', 'L12_V022.json', 'L12_V023.json', 'L12_V024.json', 'L12_V025.json', 'L12_V026.json', 'L12_V027.json', 'L12_V028.json', 'L12_V029.json', 'L12_V030.json', 'L12_V031.json', 'L13_V001.json', 'L13_V002.json', 'L13_V003.json', 'L13_V004.json', 'L13_V005.json', 'L13_V006.json', 'L13_V007.json', 'L13_V008.json', 'L13_V009.json', 'L13_V010.json', 'L13_V011.json', 'L13_V012.json', 'L13_V013.json', 'L13_V014.json', 'L13_V015.json', 'L13_V016.json', 'L13_V017.json', 'L13_V018.json', 'L13_V019.json', 'L13_V020.json', 'L13_V021.json', 'L13_V022.json', 'L13_V023.json', 'L13_V024.json', 'L13_V025.json', 'L13_V026.json', 'L13_V027.json', 'L13_V028.json', 'L13_V029.json', 'L13_V030.json', 'L14_V001.json', 'L14_V002.json', 'L14_V003.json', 'L14_V004.json', 'L14_V005.json', 'L14_V006.json', 'L14_V007.json', 'L14_V008.json', 'L14_V009.json', 'L14_V010.json', 'L14_V011.json', 'L14_V012.json', 'L14_V013.json', 'L14_V014.json', 'L14_V015.json', 'L14_V016.json', 'L14_V017.json', 'L14_V018.json', 'L14_V019.json', 'L14_V020.json', 'L14_V021.json', 'L14_V022.json', 'L14_V023.json', 'L14_V024.json', 'L14_V025.json', 'L14_V026.json', 'L14_V027.json', 'L14_V028.json', 'L14_V029.json', 'L14_V030.json', 'L15_V001.json', 'L15_V002.json', 'L15_V003.json', 'L15_V004.json', 'L15_V005.json', 'L15_V006.json', 'L15_V007.json', 'L15_V008.json', 'L15_V009.json', 'L15_V010.json', 'L15_V011.json', 'L15_V012.json', 'L15_V013.json', 'L15_V014.json', 'L15_V015.json', 'L15_V016.json', 'L15_V017.json', 'L15_V018.json', 'L15_V019.json', 'L15_V020.json', 'L15_V021.json', 'L15_V022.json', 'L15_V023.json', 'L15_V024.json', 'L15_V025.json', 'L15_V026.json', 'L15_V027.json', 'L15_V028.json', 'L15_V029.json', 'L15_V030.json', 'L15_V031.json', 'L16_V001.json', 'L16_V002.json', 'L16_V003.json', 'L16_V004.json', 'L16_V005.json', 'L16_V006.json', 'L16_V007.json', 'L16_V008.json', 'L16_V009.json', 'L16_V010.json', 'L16_V011.json', 'L16_V012.json', 'L16_V013.json', 'L16_V014.json', 'L16_V015.json', 'L16_V016.json', 'L16_V017.json', 'L16_V018.json', 'L16_V019.json', 'L16_V020.json', 'L16_V021.json', 'L16_V022.json', 'L16_V023.json', 'L16_V024.json', 'L16_V025.json', 'L16_V026.json', 'L16_V027.json', 'L16_V028.json', 'L16_V029.json', 'L16_V030.json', 'L16_V031.json', 'L17_V001.json', 'L17_V002.json', 'L17_V003.json', 'L17_V004.json', 'L17_V005.json', 'L17_V006.json', 'L17_V007.json', 'L17_V008.json', 'L17_V009.json', 'L17_V010.json', 'L17_V011.json', 'L17_V012.json', 'L17_V013.json', 'L17_V014.json', 'L17_V015.json', 'L17_V016.json', 'L17_V017.json', 'L17_V018.json', 'L17_V019.json', 'L17_V020.json', 'L17_V021.json', 'L17_V022.json', 'L17_V023.json', 'L17_V024.json', 'L17_V025.json', 'L17_V026.json', 'L17_V027.json', 'L17_V028.json', 'L17_V029.json', 'L17_V030.json', 'L17_V031.json', 'L17_V032.json', 'L17_V033.json', 'L18_V001.json', 'L18_V002.json', 'L18_V003.json', 'L18_V004.json', 'L18_V005.json', 'L18_V006.json', 'L18_V007.json', 'L18_V008.json', 'L18_V009.json', 'L18_V010.json', 'L18_V011.json', 'L18_V012.json', 'L18_V013.json', 'L18_V014.json', 'L18_V015.json', 'L18_V016.json', 'L18_V017.json', 'L18_V018.json', 'L18_V019.json', 'L18_V020.json', 'L18_V021.json', 'L18_V022.json', 'L18_V023.json', 'L18_V024.json', 'L19_V001.json', 'L19_V002.json', 'L19_V003.json', 'L19_V004.json', 'L19_V005.json', 'L19_V006.json', 'L19_V007.json', 'L19_V008.json', 'L19_V009.json', 'L19_V010.json', 'L19_V011.json', 'L19_V012.json', 'L19_V013.json', 'L19_V014.json', 'L19_V015.json', 'L19_V016.json', 'L19_V017.json', 'L19_V018.json', 'L19_V019.json', 'L19_V020.json', 'L19_V021.json', 'L19_V022.json', 'L19_V023.json', 'L19_V024.json', 'L19_V025.json', 'L19_V026.json', 'L19_V027.json', 'L19_V028.json', 'L19_V029.json', 'L19_V030.json', 'L19_V031.json', 'L19_V032.json', 'L19_V033.json', 'L19_V034.json', 'L19_V035.json', 'L19_V036.json', 'L19_V037.json', 'L19_V038.json', 'L19_V039.json', 'L19_V040.json', 'L19_V041.json', 'L19_V042.json', 'L19_V043.json', 'L19_V044.json', 'L19_V045.json', 'L19_V046.json', 'L19_V047.json', 'L19_V048.json', 'L19_V049.json', 'L19_V050.json', 'L19_V051.json', 'L19_V052.json', 'L19_V053.json', 'L19_V054.json', 'L19_V055.json', 'L19_V056.json', 'L19_V057.json', 'L19_V058.json', 'L19_V059.json', 'L19_V060.json', 'L19_V061.json', 'L19_V062.json', 'L19_V063.json', 'L19_V064.json', 'L19_V065.json', 'L19_V066.json', 'L19_V067.json', 'L19_V068.json', 'L19_V069.json', 'L19_V070.json', 'L19_V071.json', 'L19_V072.json', 'L19_V073.json', 'L19_V074.json', 'L19_V075.json', 'L19_V076.json', 'L19_V077.json', 'L19_V078.json', 'L19_V079.json', 'L19_V080.json', 'L19_V081.json', 'L19_V082.json', 'L19_V083.json', 'L19_V084.json', 'L19_V085.json', 'L19_V086.json', 'L19_V087.json', 'L19_V088.json', 'L19_V089.json', 'L19_V090.json', 'L19_V091.json', 'L19_V092.json', 'L19_V093.json', 'L19_V094.json', 'L19_V095.json', 'L19_V096.json', 'L19_V097.json', 'L19_V098.json', 'L19_V099.json', 'L19_V100.json', 'L20_V001.json', 'L20_V002.json', 'L20_V003.json', 'L20_V004.json', 'L20_V005.json', 'L20_V006.json', 'L20_V007.json', 'L20_V008.json', 'L20_V009.json', 'L20_V010.json', 'L20_V011.json', 'L20_V012.json', 'L20_V013.json', 'L20_V014.json', 'L20_V015.json', 'L20_V016.json', 'L20_V017.json', 'L20_V018.json', 'L20_V019.json', 'L20_V020.json', 'L20_V021.json', 'L20_V022.json', 'L20_V023.json', 'L20_V024.json', 'L20_V025.json', 'L20_V026.json', 'L20_V027.json', 'L20_V028.json', 'L20_V029.json', 'L20_V030.json', 'L20_V031.json', 'L20_V032.json', 'L20_V033.json', 'L20_V034.json', 'L20_V035.json', 'L20_V036.json', 'L20_V037.json', 'L20_V038.json', 'L20_V039.json', 'L20_V040.json', 'L20_V041.json', 'L20_V042.json', 'L20_V043.json', 'L20_V044.json', 'L20_V045.json', 'L20_V046.json', 'L20_V047.json', 'L20_V048.json', 'L20_V049.json', 'L20_V050.json', 'L20_V051.json', 'L20_V052.json', 'L20_V053.json', 'L20_V054.json', 'L20_V055.json', 'L20_V056.json', 'L20_V057.json', 'L20_V058.json', 'L20_V059.json', 'L20_V060.json', 'L20_V061.json', 'L20_V062.json', 'L20_V063.json', 'L20_V064.json', 'L20_V065.json', 'L20_V066.json', 'L20_V067.json', 'L20_V068.json', 'L20_V069.json', 'L20_V070.json', 'L20_V071.json', 'L20_V072.json', 'L20_V073.json', 'L20_V074.json', 'L20_V075.json', 'L20_V076.json', 'L20_V077.json', 'L20_V078.json', 'L20_V079.json', 'L20_V080.json', 'L20_V081.json', 'L20_V082.json', 'L20_V083.json', 'L20_V084.json', 'L20_V085.json', 'L20_V086.json', 'L20_V087.json', 'L20_V088.json', 'L20_V089.json', 'L20_V090.json', 'L20_V091.json', 'L20_V092.json', 'L20_V093.json', 'L20_V094.json', 'L20_V095.json', 'L20_V096.json', 'L20_V097.json', 'L20_V098.json', 'L20_V099.json', 'L20_V100.json']\n"
     ]
    }
   ],
   "source": [
    "import os\n",
    "\n",
    "# directory/folder path\n",
    "dir_path = r'new_metadata_b2'\n",
    "\n",
    "# list to store files\n",
    "res = []\n",
    "\n",
    "# Iterate directory\n",
    "for file_path in os.listdir(dir_path):\n",
    "    # check if current file_path is a file\n",
    "    if os.path.isfile(os.path.join(dir_path, file_path)):\n",
    "        # add filename to list\n",
    "        res.append(file_path)\n",
    "print(res)"
   ]
  },
  {
   "cell_type": "code",
   "execution_count": 9,
   "metadata": {},
   "outputs": [],
   "source": [
    "import pandas as pd\n",
    "import json\n",
    "for i in range(len(res)):\n",
    "    path = dir_path + '/' + res[i]\n",
    "    # Opening JSON file\n",
    "    with open(path,'r') as f:\n",
    "         # returns JSON object as\n",
    "        # a dictionary\n",
    "        s = f.read()\n",
    "        s = s.replace(\"\\'\", \"\\\"\")\n",
    "        # data = json.load(s)\n",
    "        f.close()\n",
    "    \n",
    "    path_txt = dir_path + '/' + res[i][:-3] + \".txt\"\n",
    "    f = open(path_txt, \"w\")\n",
    "    f.write(s)\n",
    "    f.close()\n",
    "    # df = pd.read_json(path)\n",
    "    # df.to_csv (path_txt, index = False)"
   ]
  }
 ],
 "metadata": {
  "kernelspec": {
   "display_name": "HCMAI",
   "language": "python",
   "name": "python3"
  },
  "language_info": {
   "codemirror_mode": {
    "name": "ipython",
    "version": 3
   },
   "file_extension": ".py",
   "mimetype": "text/x-python",
   "name": "python",
   "nbconvert_exporter": "python",
   "pygments_lexer": "ipython3",
   "version": "3.10.12"
  },
  "orig_nbformat": 4
 },
 "nbformat": 4,
 "nbformat_minor": 2
}
